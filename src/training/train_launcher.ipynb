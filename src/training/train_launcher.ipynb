{
 "cells": [
  {
   "cell_type": "code",
   "execution_count": null,
   "id": "18c75187",
   "metadata": {},
   "outputs": [],
   "source": [
    "import sagemaker\n",
    "from sagemaker.sklearn.estimator import SKLearn\n",
    "from sagemaker import get_execution_role"
   ]
  },
  {
   "cell_type": "code",
   "execution_count": null,
   "id": "1bb621da",
   "metadata": {},
   "outputs": [],
   "source": [
    "import os\n",
    "os.chdir(\"/home/sagemaker-user/mlops_project_grupo_2\")"
   ]
  },
  {
   "cell_type": "code",
   "execution_count": null,
   "id": "9a120e81",
   "metadata": {},
   "outputs": [],
   "source": [
    "# Setup\n",
    "role = get_execution_role()\n",
    "sagemaker_session = sagemaker.Session()\n",
    "bucket = \"my-batch-inference-data\"  # change if needed\n",
    "tracking_server_arn = \"arn:aws:sagemaker:us-east-2:686410906112:mlflow-tracking-server/bank-attrition-server\""
   ]
  },
  {
   "cell_type": "code",
   "execution_count": null,
   "id": "e9738f6b",
   "metadata": {},
   "outputs": [],
   "source": [
    "# Upload data to S3 (if not already uploaded)\n",
    "train_input = sagemaker_session.upload_data(\"data/processed/train_clean.csv\", key_prefix=\"training/train\")\n",
    "test_input = sagemaker_session.upload_data(\"data/processed/test_clean.csv\", key_prefix=\"training/test\")"
   ]
  },
  {
   "cell_type": "code",
   "execution_count": null,
   "id": "4231e913",
   "metadata": {},
   "outputs": [],
   "source": [
    "sklearn_estimator = SKLearn(\n",
    "    entry_point=\"src/training/train.py\",     # Full path inside the project\n",
    "    source_dir=\".\",                          # Upload whole repo\n",
    "    role=role,\n",
    "    instance_type=\"ml.m5.large\",\n",
    "    framework_version=\"1.2-1\",\n",
    "    py_version=\"py3\",\n",
    "    hyperparameters={\n",
    "        \"--train_path\": \"/opt/ml/input/data/train/train_clean.csv\",\n",
    "        \"--test_path\": \"/opt/ml/input/data/train/test_clean.csv\"\n",
    "    },\n",
    "    environment={\n",
    "        \"MLFLOW_TRACKING_URI\": tracking_server_arn,\n",
    "        \"PYTHONPATH\": \"/opt/ml/code\"  # because /opt/ml/code now contains src/\n",
    "    },\n",
    "    sagemaker_session=sagemaker_session,\n",
    "    dependencies=[\"mlops_project_grupo_2/src/training/requirements.txt\"]\n",
    ")\n",
    "\n",
    "sklearn_estimator.fit({\n",
    "    \"train\": train_input,\n",
    "    \"test\": test_input\n",
    "})"
   ]
  }
 ],
 "metadata": {
  "language_info": {
   "name": "python"
  }
 },
 "nbformat": 4,
 "nbformat_minor": 5
}
